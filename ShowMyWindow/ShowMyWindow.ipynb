{
 "cells": [
  {
   "cell_type": "code",
   "execution_count": null,
   "metadata": {},
   "outputs": [],
   "source": [
    "!pip install pyautogui\n",
    "!pip install opencv-python\n",
    "#sudo apt-get install scrot"
   ]
  },
  {
   "cell_type": "code",
   "execution_count": null,
   "metadata": {},
   "outputs": [],
   "source": [
    "import cv2 as cv\n",
    "import numpy as np\n",
    "import pyautogui\n",
    "\n",
    "\n",
    "\n",
    "cv.namedWindow(\"result\");\n",
    "cv.moveWindow(\"result\", 0, 500);\n",
    "\n",
    "\n",
    "while 1:\n",
    "    pic = pyautogui.screenshot(region=(0, 0, 900, 600))\n",
    "    img_frame = np.array(pic)\n",
    "    img_frame  = cv.cvtColor(img_frame, cv.COLOR_RGB2BGR)\n",
    "    meth = 'cv.TM_CCOEFF'\n",
    "    method = eval(meth)\n",
    "\n",
    "    cv.imshow('result', img_frame)\n",
    "    \n",
    "    key = cv.waitKey(1)\n",
    "    if key == 27:\n",
    "        break"
   ]
  }
 ],
 "metadata": {
  "kernelspec": {
   "display_name": "Python 3",
   "language": "python",
   "name": "python3"
  },
  "language_info": {
   "codemirror_mode": {
    "name": "ipython",
    "version": 3
   },
   "file_extension": ".py",
   "mimetype": "text/x-python",
   "name": "python",
   "nbconvert_exporter": "python",
   "pygments_lexer": "ipython3",
   "version": "3.8.5"
  }
 },
 "nbformat": 4,
 "nbformat_minor": 4
}
